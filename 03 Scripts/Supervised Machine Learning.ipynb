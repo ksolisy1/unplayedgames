{
 "cells": [
  {
   "cell_type": "markdown",
   "id": "45e474ee",
   "metadata": {},
   "source": [
    "## Exercise 6.4 Supervised Machine Learning Regression"
   ]
  },
  {
   "cell_type": "markdown",
   "id": "70bd804a",
   "metadata": {},
   "source": [
    "### This script contains the following:\n",
    "\n",
    "#### 1. Importing libraries and data\n",
    "#### 2. Data cleaning\n",
    "#### 3. Data prep for regression analysis\n",
    "#### 4. Regression analysis\n",
    "#### 5. Reflection"
   ]
  },
  {
   "cell_type": "markdown",
   "id": "7cd7f02a",
   "metadata": {},
   "source": [
    "## 01 Importing libraries and data"
   ]
  },
  {
   "cell_type": "code",
   "execution_count": 1,
   "id": "28acbff3",
   "metadata": {},
   "outputs": [],
   "source": [
    "# importing libraries\n",
    "import pandas as pd\n",
    "import numpy as np\n",
    "import seaborn as sns\n",
    "import matplotlib\n",
    "import matplotlib.pyplot as plt\n",
    "import scipy.stats as stats\n",
    "import os\n",
    "import sklearn\n",
    "from sklearn.model_selection import train_test_split \n",
    "from sklearn.linear_model import LinearRegression\n",
    "from sklearn.metrics import mean_squared_error, r2_score"
   ]
  },
  {
   "cell_type": "code",
   "execution_count": 2,
   "id": "d4570671",
   "metadata": {},
   "outputs": [],
   "source": [
    "%matplotlib inline"
   ]
  },
  {
   "cell_type": "code",
   "execution_count": 3,
   "id": "39b1623d",
   "metadata": {},
   "outputs": [],
   "source": [
    "# importing data\n",
    "path = 'I:/CF/Immersion into Data Analystics/6 Advanced Analytics and Dashboard Design/SteamGames'"
   ]
  },
  {
   "cell_type": "code",
   "execution_count": 4,
   "id": "7dfb2ce9",
   "metadata": {},
   "outputs": [],
   "source": [
    "df_steam1 = pd.read_excel(os.path.join(path, '02 Data', 'Prepared Data', 'gamesc.xlsx'), index_col = [0])"
   ]
  },
  {
   "cell_type": "code",
   "execution_count": 5,
   "id": "fce9e591",
   "metadata": {},
   "outputs": [],
   "source": [
    "# change display options\n",
    "pd.options.display.max_rows = None\n",
    "pd.options.display.max_columns = None"
   ]
  },
  {
   "cell_type": "markdown",
   "id": "6c7d640d",
   "metadata": {},
   "source": [
    "## 02 Data Cleaning"
   ]
  },
  {
   "cell_type": "code",
   "execution_count": 6,
   "id": "38dd5689",
   "metadata": {},
   "outputs": [
    {
     "data": {
      "text/html": [
       "<div>\n",
       "<style scoped>\n",
       "    .dataframe tbody tr th:only-of-type {\n",
       "        vertical-align: middle;\n",
       "    }\n",
       "\n",
       "    .dataframe tbody tr th {\n",
       "        vertical-align: top;\n",
       "    }\n",
       "\n",
       "    .dataframe thead th {\n",
       "        text-align: right;\n",
       "    }\n",
       "</style>\n",
       "<table border=\"1\" class=\"dataframe\">\n",
       "  <thead>\n",
       "    <tr style=\"text-align: right;\">\n",
       "      <th></th>\n",
       "      <th>Name</th>\n",
       "      <th>Release date</th>\n",
       "      <th>release_year</th>\n",
       "      <th>release_month</th>\n",
       "      <th>Estimated owners</th>\n",
       "      <th>Estimated owner level</th>\n",
       "      <th>Peak CCU</th>\n",
       "      <th>Required age</th>\n",
       "      <th>Price</th>\n",
       "      <th>DLC count</th>\n",
       "      <th>Windows</th>\n",
       "      <th>Mac</th>\n",
       "      <th>Linux</th>\n",
       "      <th>Operating Systems</th>\n",
       "      <th>Metacritic score</th>\n",
       "      <th>User score</th>\n",
       "      <th>Positive</th>\n",
       "      <th>Negative</th>\n",
       "      <th>Achievements</th>\n",
       "      <th>Recommendations</th>\n",
       "      <th>Avg playtime all</th>\n",
       "      <th>Avg playtime recent</th>\n",
       "      <th>Median playtime all</th>\n",
       "      <th>Median playtime recent</th>\n",
       "      <th>Developer</th>\n",
       "      <th>Publishers</th>\n",
       "      <th>Developer Country</th>\n",
       "      <th>Single-player</th>\n",
       "      <th>Multi-player</th>\n",
       "      <th>Co-op</th>\n",
       "      <th>PVP</th>\n",
       "      <th>Gameplay</th>\n",
       "      <th>VR</th>\n",
       "      <th>MMO</th>\n",
       "      <th>Indie</th>\n",
       "      <th>Early Access</th>\n",
       "      <th>Free to Play</th>\n",
       "      <th>Primary Genre</th>\n",
       "    </tr>\n",
       "    <tr>\n",
       "      <th>AppID</th>\n",
       "      <th></th>\n",
       "      <th></th>\n",
       "      <th></th>\n",
       "      <th></th>\n",
       "      <th></th>\n",
       "      <th></th>\n",
       "      <th></th>\n",
       "      <th></th>\n",
       "      <th></th>\n",
       "      <th></th>\n",
       "      <th></th>\n",
       "      <th></th>\n",
       "      <th></th>\n",
       "      <th></th>\n",
       "      <th></th>\n",
       "      <th></th>\n",
       "      <th></th>\n",
       "      <th></th>\n",
       "      <th></th>\n",
       "      <th></th>\n",
       "      <th></th>\n",
       "      <th></th>\n",
       "      <th></th>\n",
       "      <th></th>\n",
       "      <th></th>\n",
       "      <th></th>\n",
       "      <th></th>\n",
       "      <th></th>\n",
       "      <th></th>\n",
       "      <th></th>\n",
       "      <th></th>\n",
       "      <th></th>\n",
       "      <th></th>\n",
       "      <th></th>\n",
       "      <th></th>\n",
       "      <th></th>\n",
       "      <th></th>\n",
       "      <th></th>\n",
       "    </tr>\n",
       "  </thead>\n",
       "  <tbody>\n",
       "    <tr>\n",
       "      <th>1200520</th>\n",
       "      <td>Ascent Free-Roaming VR Experience</td>\n",
       "      <td>2019-12-27</td>\n",
       "      <td>2019</td>\n",
       "      <td>12</td>\n",
       "      <td>0 - 20000</td>\n",
       "      <td>1</td>\n",
       "      <td>0</td>\n",
       "      <td>0</td>\n",
       "      <td>999.00</td>\n",
       "      <td>0</td>\n",
       "      <td>True</td>\n",
       "      <td>False</td>\n",
       "      <td>False</td>\n",
       "      <td>Windows, Linux</td>\n",
       "      <td>0</td>\n",
       "      <td>0</td>\n",
       "      <td>6</td>\n",
       "      <td>0</td>\n",
       "      <td>0</td>\n",
       "      <td>0</td>\n",
       "      <td>0</td>\n",
       "      <td>0</td>\n",
       "      <td>0</td>\n",
       "      <td>0</td>\n",
       "      <td>Fury Games</td>\n",
       "      <td>Fury Games</td>\n",
       "      <td>United States</td>\n",
       "      <td>1</td>\n",
       "      <td>1</td>\n",
       "      <td>1</td>\n",
       "      <td>0</td>\n",
       "      <td>Single, Multi, Co-op</td>\n",
       "      <td>0</td>\n",
       "      <td>0</td>\n",
       "      <td>0</td>\n",
       "      <td>0</td>\n",
       "      <td>0</td>\n",
       "      <td>Action</td>\n",
       "    </tr>\n",
       "    <tr>\n",
       "      <th>253670</th>\n",
       "      <td>Aartform Curvy 3D 3.0</td>\n",
       "      <td>2013-11-12</td>\n",
       "      <td>2013</td>\n",
       "      <td>11</td>\n",
       "      <td>0 - 20000</td>\n",
       "      <td>1</td>\n",
       "      <td>0</td>\n",
       "      <td>0</td>\n",
       "      <td>299.90</td>\n",
       "      <td>0</td>\n",
       "      <td>True</td>\n",
       "      <td>False</td>\n",
       "      <td>False</td>\n",
       "      <td>Windows, Linux</td>\n",
       "      <td>0</td>\n",
       "      <td>0</td>\n",
       "      <td>32</td>\n",
       "      <td>13</td>\n",
       "      <td>0</td>\n",
       "      <td>0</td>\n",
       "      <td>150</td>\n",
       "      <td>0</td>\n",
       "      <td>150</td>\n",
       "      <td>0</td>\n",
       "      <td>Aartform</td>\n",
       "      <td>Aartform</td>\n",
       "      <td>Germany</td>\n",
       "      <td>1</td>\n",
       "      <td>0</td>\n",
       "      <td>0</td>\n",
       "      <td>0</td>\n",
       "      <td>Single</td>\n",
       "      <td>0</td>\n",
       "      <td>0</td>\n",
       "      <td>0</td>\n",
       "      <td>0</td>\n",
       "      <td>0</td>\n",
       "      <td>Design</td>\n",
       "    </tr>\n",
       "    <tr>\n",
       "      <th>502570</th>\n",
       "      <td>Houdini Indie</td>\n",
       "      <td>2018-10-10</td>\n",
       "      <td>2018</td>\n",
       "      <td>10</td>\n",
       "      <td>0 - 20000</td>\n",
       "      <td>1</td>\n",
       "      <td>59</td>\n",
       "      <td>0</td>\n",
       "      <td>269.99</td>\n",
       "      <td>0</td>\n",
       "      <td>True</td>\n",
       "      <td>True</td>\n",
       "      <td>False</td>\n",
       "      <td>Windows, Linux</td>\n",
       "      <td>0</td>\n",
       "      <td>0</td>\n",
       "      <td>141</td>\n",
       "      <td>7</td>\n",
       "      <td>0</td>\n",
       "      <td>124</td>\n",
       "      <td>0</td>\n",
       "      <td>0</td>\n",
       "      <td>0</td>\n",
       "      <td>0</td>\n",
       "      <td>SideFX</td>\n",
       "      <td>SideFX</td>\n",
       "      <td>Belgium</td>\n",
       "      <td>0</td>\n",
       "      <td>0</td>\n",
       "      <td>0</td>\n",
       "      <td>0</td>\n",
       "      <td>Unspecified</td>\n",
       "      <td>0</td>\n",
       "      <td>0</td>\n",
       "      <td>0</td>\n",
       "      <td>0</td>\n",
       "      <td>0</td>\n",
       "      <td>Design</td>\n",
       "    </tr>\n",
       "    <tr>\n",
       "      <th>1698340</th>\n",
       "      <td>VEGAS 19 Edit - Steam Edition</td>\n",
       "      <td>2021-09-09</td>\n",
       "      <td>2021</td>\n",
       "      <td>9</td>\n",
       "      <td>0 - 20000</td>\n",
       "      <td>1</td>\n",
       "      <td>17</td>\n",
       "      <td>0</td>\n",
       "      <td>249.00</td>\n",
       "      <td>0</td>\n",
       "      <td>True</td>\n",
       "      <td>False</td>\n",
       "      <td>False</td>\n",
       "      <td>Windows, Linux</td>\n",
       "      <td>0</td>\n",
       "      <td>0</td>\n",
       "      <td>20</td>\n",
       "      <td>8</td>\n",
       "      <td>0</td>\n",
       "      <td>0</td>\n",
       "      <td>0</td>\n",
       "      <td>0</td>\n",
       "      <td>0</td>\n",
       "      <td>0</td>\n",
       "      <td>MAGIX Software GmbH</td>\n",
       "      <td>MAGIX Software GmbH</td>\n",
       "      <td>United Kingdom</td>\n",
       "      <td>0</td>\n",
       "      <td>0</td>\n",
       "      <td>0</td>\n",
       "      <td>0</td>\n",
       "      <td>Unspecified</td>\n",
       "      <td>0</td>\n",
       "      <td>0</td>\n",
       "      <td>0</td>\n",
       "      <td>0</td>\n",
       "      <td>0</td>\n",
       "      <td>Design</td>\n",
       "    </tr>\n",
       "    <tr>\n",
       "      <th>438450</th>\n",
       "      <td>3DF Zephyr Lite Steam Edition</td>\n",
       "      <td>2016-02-02</td>\n",
       "      <td>2016</td>\n",
       "      <td>2</td>\n",
       "      <td>0 - 20000</td>\n",
       "      <td>1</td>\n",
       "      <td>4</td>\n",
       "      <td>0</td>\n",
       "      <td>199.99</td>\n",
       "      <td>0</td>\n",
       "      <td>True</td>\n",
       "      <td>False</td>\n",
       "      <td>False</td>\n",
       "      <td>Windows, Linux</td>\n",
       "      <td>0</td>\n",
       "      <td>0</td>\n",
       "      <td>60</td>\n",
       "      <td>2</td>\n",
       "      <td>0</td>\n",
       "      <td>0</td>\n",
       "      <td>0</td>\n",
       "      <td>0</td>\n",
       "      <td>0</td>\n",
       "      <td>0</td>\n",
       "      <td>3Dflow SRL</td>\n",
       "      <td>3Dflow SRL</td>\n",
       "      <td>Poland</td>\n",
       "      <td>0</td>\n",
       "      <td>0</td>\n",
       "      <td>0</td>\n",
       "      <td>0</td>\n",
       "      <td>Unspecified</td>\n",
       "      <td>0</td>\n",
       "      <td>0</td>\n",
       "      <td>0</td>\n",
       "      <td>0</td>\n",
       "      <td>0</td>\n",
       "      <td>Design</td>\n",
       "    </tr>\n",
       "  </tbody>\n",
       "</table>\n",
       "</div>"
      ],
      "text/plain": [
       "                                      Name Release date  release_year  \\\n",
       "AppID                                                                   \n",
       "1200520  Ascent Free-Roaming VR Experience   2019-12-27          2019   \n",
       "253670               Aartform Curvy 3D 3.0   2013-11-12          2013   \n",
       "502570                       Houdini Indie   2018-10-10          2018   \n",
       "1698340      VEGAS 19 Edit - Steam Edition   2021-09-09          2021   \n",
       "438450       3DF Zephyr Lite Steam Edition   2016-02-02          2016   \n",
       "\n",
       "         release_month Estimated owners  Estimated owner level  Peak CCU  \\\n",
       "AppID                                                                      \n",
       "1200520             12        0 - 20000                      1         0   \n",
       "253670              11        0 - 20000                      1         0   \n",
       "502570              10        0 - 20000                      1        59   \n",
       "1698340              9        0 - 20000                      1        17   \n",
       "438450               2        0 - 20000                      1         4   \n",
       "\n",
       "         Required age   Price  DLC count  Windows    Mac  Linux  \\\n",
       "AppID                                                             \n",
       "1200520             0  999.00          0     True  False  False   \n",
       "253670              0  299.90          0     True  False  False   \n",
       "502570              0  269.99          0     True   True  False   \n",
       "1698340             0  249.00          0     True  False  False   \n",
       "438450              0  199.99          0     True  False  False   \n",
       "\n",
       "        Operating Systems  Metacritic score  User score  Positive  Negative  \\\n",
       "AppID                                                                         \n",
       "1200520    Windows, Linux                 0           0         6         0   \n",
       "253670     Windows, Linux                 0           0        32        13   \n",
       "502570     Windows, Linux                 0           0       141         7   \n",
       "1698340    Windows, Linux                 0           0        20         8   \n",
       "438450     Windows, Linux                 0           0        60         2   \n",
       "\n",
       "         Achievements  Recommendations  Avg playtime all  Avg playtime recent  \\\n",
       "AppID                                                                           \n",
       "1200520             0                0                 0                    0   \n",
       "253670              0                0               150                    0   \n",
       "502570              0              124                 0                    0   \n",
       "1698340             0                0                 0                    0   \n",
       "438450              0                0                 0                    0   \n",
       "\n",
       "         Median playtime all  Median playtime recent            Developer  \\\n",
       "AppID                                                                       \n",
       "1200520                    0                       0           Fury Games   \n",
       "253670                   150                       0             Aartform   \n",
       "502570                     0                       0               SideFX   \n",
       "1698340                    0                       0  MAGIX Software GmbH   \n",
       "438450                     0                       0           3Dflow SRL   \n",
       "\n",
       "                  Publishers Developer Country  Single-player  Multi-player  \\\n",
       "AppID                                                                         \n",
       "1200520           Fury Games     United States              1             1   \n",
       "253670              Aartform           Germany              1             0   \n",
       "502570                SideFX           Belgium              0             0   \n",
       "1698340  MAGIX Software GmbH    United Kingdom              0             0   \n",
       "438450            3Dflow SRL            Poland              0             0   \n",
       "\n",
       "         Co-op  PVP              Gameplay  VR  MMO  Indie  Early Access  \\\n",
       "AppID                                                                     \n",
       "1200520      1    0  Single, Multi, Co-op   0    0      0             0   \n",
       "253670       0    0                Single   0    0      0             0   \n",
       "502570       0    0           Unspecified   0    0      0             0   \n",
       "1698340      0    0           Unspecified   0    0      0             0   \n",
       "438450       0    0           Unspecified   0    0      0             0   \n",
       "\n",
       "         Free to Play Primary Genre  \n",
       "AppID                                \n",
       "1200520             0        Action  \n",
       "253670              0        Design  \n",
       "502570              0        Design  \n",
       "1698340             0        Design  \n",
       "438450              0        Design  "
      ]
     },
     "execution_count": 6,
     "metadata": {},
     "output_type": "execute_result"
    }
   ],
   "source": [
    "# inspect data\n",
    "df_steam1.head()"
   ]
  },
  {
   "cell_type": "code",
   "execution_count": 7,
   "id": "c6a7a383",
   "metadata": {},
   "outputs": [
    {
     "data": {
      "text/plain": [
       "Name                        0\n",
       "Release date                0\n",
       "release_year                0\n",
       "release_month               0\n",
       "Estimated owners            0\n",
       "Estimated owner level       0\n",
       "Peak CCU                    0\n",
       "Required age                0\n",
       "Price                       0\n",
       "DLC count                   0\n",
       "Windows                     0\n",
       "Mac                         0\n",
       "Linux                       0\n",
       "Operating Systems           0\n",
       "Metacritic score            0\n",
       "User score                  0\n",
       "Positive                    0\n",
       "Negative                    0\n",
       "Achievements                0\n",
       "Recommendations             0\n",
       "Avg playtime all            0\n",
       "Avg playtime recent         0\n",
       "Median playtime all         0\n",
       "Median playtime recent      0\n",
       "Developer                 100\n",
       "Publishers                320\n",
       "Developer Country         201\n",
       "Single-player               0\n",
       "Multi-player                0\n",
       "Co-op                       0\n",
       "PVP                         0\n",
       "Gameplay                    0\n",
       "VR                          0\n",
       "MMO                         0\n",
       "Indie                       0\n",
       "Early Access                0\n",
       "Free to Play                0\n",
       "Primary Genre               0\n",
       "dtype: int64"
      ]
     },
     "execution_count": 7,
     "metadata": {},
     "output_type": "execute_result"
    }
   ],
   "source": [
    "# Check for missing values\n",
    "\n",
    "df_steam1.isnull().sum()"
   ]
  },
  {
   "cell_type": "markdown",
   "id": "868b6911",
   "metadata": {},
   "source": [
    "#### Missing values are in developer information which is not going to be used here"
   ]
  },
  {
   "cell_type": "code",
   "execution_count": 8,
   "id": "b8bc9b80",
   "metadata": {},
   "outputs": [],
   "source": [
    "# checking for duplicates\n",
    "dups = df_steam1.duplicated()"
   ]
  },
  {
   "cell_type": "code",
   "execution_count": 9,
   "id": "fcc66a4d",
   "metadata": {},
   "outputs": [
    {
     "data": {
      "text/plain": [
       "(62998,)"
      ]
     },
     "execution_count": 9,
     "metadata": {},
     "output_type": "execute_result"
    }
   ],
   "source": [
    "dups.shape # no duplicates"
   ]
  },
  {
   "cell_type": "code",
   "execution_count": 10,
   "id": "95fbbb86",
   "metadata": {},
   "outputs": [
    {
     "data": {
      "text/plain": [
       "<AxesSubplot: xlabel='release_year', ylabel='Price'>"
      ]
     },
     "execution_count": 10,
     "metadata": {},
     "output_type": "execute_result"
    },
    {
     "data": {
      "image/png": "[encoded data removed]",
      "text/plain": [
       "<Figure size 640x480 with 1 Axes>"
      ]
     },
     "metadata": {},
     "output_type": "display_data"
    }
   ],
   "source": [
    "# checking for extreme values\n",
    "sns.scatterplot(df_steam1, x = 'release_year', y = 'Price')"
   ]
  },
  {
   "cell_type": "code",
   "execution_count": 11,
   "id": "d37aec81",
   "metadata": {},
   "outputs": [
    {
     "data": {
      "text/plain": [
       "<AxesSubplot: >"
      ]
     },
     "execution_count": 11,
     "metadata": {},
     "output_type": "execute_result"
    },
    {
     "data": {
      "image/png": "[encoded data removed]",
      "text/plain": [
       "<Figure size 640x480 with 1 Axes>"
      ]
     },
     "metadata": {},
     "output_type": "display_data"
    }
   ],
   "source": [
    "df_steam1.boxplot(column = 'Price')"
   ]
  },
  {
   "cell_type": "code",
   "execution_count": 12,
   "id": "4d59171c",
   "metadata": {},
   "outputs": [],
   "source": [
    "# removing 'Free to play' games as that appears to skew the data\n",
    "df_steam1 = df_steam1.query('Price != 0.00')"
   ]
  },
  {
   "cell_type": "code",
   "execution_count": 13,
   "id": "1eb3d7e9",
   "metadata": {},
   "outputs": [
    {
     "data": {
      "text/plain": [
       "<AxesSubplot: xlabel='release_year', ylabel='Price'>"
      ]
     },
     "execution_count": 13,
     "metadata": {},
     "output_type": "execute_result"
    },
    {
     "data": {
      "image/png": "[encoded data removed]",
      "text/plain": [
       "<Figure size 640x480 with 1 Axes>"
      ]
     },
     "metadata": {},
     "output_type": "display_data"
    }
   ],
   "source": [
    "# rechecking for extreme values\n",
    "sns.scatterplot(df_steam1, x = 'release_year', y = 'Price')"
   ]
  },
  {
   "cell_type": "code",
   "execution_count": 14,
   "id": "34075e9e",
   "metadata": {},
   "outputs": [
    {
     "data": {
      "text/plain": [
       "<AxesSubplot: >"
      ]
     },
     "execution_count": 14,
     "metadata": {},
     "output_type": "execute_result"
    },
    {
     "data": {
      "image/png": "[encoded data removed]",
      "text/plain": [
       "<Figure size 640x480 with 1 Axes>"
      ]
     },
     "metadata": {},
     "output_type": "display_data"
    }
   ],
   "source": [
    "df_steam1.boxplot(column = 'Price')"
   ]
  },
  {
   "cell_type": "code",
   "execution_count": 15,
   "id": "3e69a710",
   "metadata": {},
   "outputs": [],
   "source": [
    "# removing extreme values, but keeping most outliers as they make up a large portion of the data.\n",
    "df_steam2 = df_steam1[df_steam1['Price'] <=175] "
   ]
  },
  {
   "cell_type": "code",
   "execution_count": 16,
   "id": "70394467",
   "metadata": {},
   "outputs": [],
   "source": [
    "# removing year 2023 as it is the current year, in Feb. and therefore not complete\n",
    "df_steam2 = df_steam2.query('release_year != 2023')"
   ]
  },
  {
   "cell_type": "code",
   "execution_count": 17,
   "id": "3d68eb62",
   "metadata": {},
   "outputs": [
    {
     "data": {
      "text/plain": [
       "<AxesSubplot: xlabel='release_year', ylabel='Price'>"
      ]
     },
     "execution_count": 17,
     "metadata": {},
     "output_type": "execute_result"
    },
    {
     "data": {
      "image/png": "[encoded data removed]",
      "text/plain": [
       "<Figure size 640x480 with 1 Axes>"
      ]
     },
     "metadata": {},
     "output_type": "display_data"
    }
   ],
   "source": [
    "# rechecking new scatter plot\n",
    "sns.scatterplot(df_steam2, x = 'release_year', y = 'Price')"
   ]
  },
  {
   "cell_type": "markdown",
   "id": "e7d6abad",
   "metadata": {},
   "source": [
    "## 03 Data prep for regression analysis"
   ]
  },
  {
   "cell_type": "markdown",
   "id": "9436996f",
   "metadata": {},
   "source": [
    "#### Hypothesis: The maximum price of games will continue to increase over time, but the minimum price of games will also continue to drop. "
   ]
  },
  {
   "cell_type": "code",
   "execution_count": 18,
   "id": "dc1ea3da",
   "metadata": {},
   "outputs": [
    {
     "data": {
      "text/html": [
       "<div>\n",
       "<style scoped>\n",
       "    .dataframe tbody tr th:only-of-type {\n",
       "        vertical-align: middle;\n",
       "    }\n",
       "\n",
       "    .dataframe tbody tr th {\n",
       "        vertical-align: top;\n",
       "    }\n",
       "\n",
       "    .dataframe thead tr th {\n",
       "        text-align: left;\n",
       "    }\n",
       "\n",
       "    .dataframe thead tr:last-of-type th {\n",
       "        text-align: right;\n",
       "    }\n",
       "</style>\n",
       "<table border=\"1\" class=\"dataframe\">\n",
       "  <thead>\n",
       "    <tr>\n",
       "      <th></th>\n",
       "      <th colspan=\"3\" halign=\"left\">Price</th>\n",
       "    </tr>\n",
       "    <tr>\n",
       "      <th></th>\n",
       "      <th>mean</th>\n",
       "      <th>min</th>\n",
       "      <th>max</th>\n",
       "    </tr>\n",
       "    <tr>\n",
       "      <th>release_year</th>\n",
       "      <th></th>\n",
       "      <th></th>\n",
       "      <th></th>\n",
       "    </tr>\n",
       "  </thead>\n",
       "  <tbody>\n",
       "    <tr>\n",
       "      <th>1997</th>\n",
       "      <td>9.990000</td>\n",
       "      <td>9.99</td>\n",
       "      <td>9.99</td>\n",
       "    </tr>\n",
       "    <tr>\n",
       "      <th>1998</th>\n",
       "      <td>9.990000</td>\n",
       "      <td>9.99</td>\n",
       "      <td>9.99</td>\n",
       "    </tr>\n",
       "    <tr>\n",
       "      <th>1999</th>\n",
       "      <td>4.990000</td>\n",
       "      <td>4.99</td>\n",
       "      <td>4.99</td>\n",
       "    </tr>\n",
       "    <tr>\n",
       "      <th>2000</th>\n",
       "      <td>9.990000</td>\n",
       "      <td>9.99</td>\n",
       "      <td>9.99</td>\n",
       "    </tr>\n",
       "    <tr>\n",
       "      <th>2001</th>\n",
       "      <td>9.990000</td>\n",
       "      <td>4.99</td>\n",
       "      <td>19.99</td>\n",
       "    </tr>\n",
       "    <tr>\n",
       "      <th>2002</th>\n",
       "      <td>14.990000</td>\n",
       "      <td>14.99</td>\n",
       "      <td>14.99</td>\n",
       "    </tr>\n",
       "    <tr>\n",
       "      <th>2003</th>\n",
       "      <td>10.656667</td>\n",
       "      <td>4.99</td>\n",
       "      <td>19.99</td>\n",
       "    </tr>\n",
       "    <tr>\n",
       "      <th>2004</th>\n",
       "      <td>9.990000</td>\n",
       "      <td>4.99</td>\n",
       "      <td>14.99</td>\n",
       "    </tr>\n",
       "    <tr>\n",
       "      <th>2005</th>\n",
       "      <td>9.656667</td>\n",
       "      <td>0.99</td>\n",
       "      <td>19.99</td>\n",
       "    </tr>\n",
       "    <tr>\n",
       "      <th>2006</th>\n",
       "      <td>9.281379</td>\n",
       "      <td>0.99</td>\n",
       "      <td>39.99</td>\n",
       "    </tr>\n",
       "    <tr>\n",
       "      <th>2007</th>\n",
       "      <td>8.175393</td>\n",
       "      <td>2.99</td>\n",
       "      <td>24.99</td>\n",
       "    </tr>\n",
       "    <tr>\n",
       "      <th>2008</th>\n",
       "      <td>9.680203</td>\n",
       "      <td>0.99</td>\n",
       "      <td>39.99</td>\n",
       "    </tr>\n",
       "    <tr>\n",
       "      <th>2009</th>\n",
       "      <td>9.819934</td>\n",
       "      <td>0.51</td>\n",
       "      <td>29.99</td>\n",
       "    </tr>\n",
       "    <tr>\n",
       "      <th>2010</th>\n",
       "      <td>8.499922</td>\n",
       "      <td>0.54</td>\n",
       "      <td>54.99</td>\n",
       "    </tr>\n",
       "    <tr>\n",
       "      <th>2011</th>\n",
       "      <td>9.663918</td>\n",
       "      <td>0.54</td>\n",
       "      <td>59.99</td>\n",
       "    </tr>\n",
       "    <tr>\n",
       "      <th>2012</th>\n",
       "      <td>10.493663</td>\n",
       "      <td>0.99</td>\n",
       "      <td>59.99</td>\n",
       "    </tr>\n",
       "    <tr>\n",
       "      <th>2013</th>\n",
       "      <td>11.667896</td>\n",
       "      <td>0.54</td>\n",
       "      <td>99.99</td>\n",
       "    </tr>\n",
       "    <tr>\n",
       "      <th>2014</th>\n",
       "      <td>9.790296</td>\n",
       "      <td>0.49</td>\n",
       "      <td>124.99</td>\n",
       "    </tr>\n",
       "    <tr>\n",
       "      <th>2015</th>\n",
       "      <td>8.545370</td>\n",
       "      <td>0.49</td>\n",
       "      <td>79.99</td>\n",
       "    </tr>\n",
       "    <tr>\n",
       "      <th>2016</th>\n",
       "      <td>8.364495</td>\n",
       "      <td>0.49</td>\n",
       "      <td>99.99</td>\n",
       "    </tr>\n",
       "    <tr>\n",
       "      <th>2017</th>\n",
       "      <td>8.010354</td>\n",
       "      <td>0.49</td>\n",
       "      <td>129.99</td>\n",
       "    </tr>\n",
       "    <tr>\n",
       "      <th>2018</th>\n",
       "      <td>7.470698</td>\n",
       "      <td>0.49</td>\n",
       "      <td>149.99</td>\n",
       "    </tr>\n",
       "    <tr>\n",
       "      <th>2019</th>\n",
       "      <td>8.428086</td>\n",
       "      <td>0.44</td>\n",
       "      <td>149.99</td>\n",
       "    </tr>\n",
       "    <tr>\n",
       "      <th>2020</th>\n",
       "      <td>8.498338</td>\n",
       "      <td>0.49</td>\n",
       "      <td>134.10</td>\n",
       "    </tr>\n",
       "    <tr>\n",
       "      <th>2021</th>\n",
       "      <td>8.816480</td>\n",
       "      <td>0.49</td>\n",
       "      <td>149.99</td>\n",
       "    </tr>\n",
       "    <tr>\n",
       "      <th>2022</th>\n",
       "      <td>9.153158</td>\n",
       "      <td>0.49</td>\n",
       "      <td>164.34</td>\n",
       "    </tr>\n",
       "  </tbody>\n",
       "</table>\n",
       "</div>"
      ],
      "text/plain": [
       "                  Price               \n",
       "                   mean    min     max\n",
       "release_year                          \n",
       "1997           9.990000   9.99    9.99\n",
       "1998           9.990000   9.99    9.99\n",
       "1999           4.990000   4.99    4.99\n",
       "2000           9.990000   9.99    9.99\n",
       "2001           9.990000   4.99   19.99\n",
       "2002          14.990000  14.99   14.99\n",
       "2003          10.656667   4.99   19.99\n",
       "2004           9.990000   4.99   14.99\n",
       "2005           9.656667   0.99   19.99\n",
       "2006           9.281379   0.99   39.99\n",
       "2007           8.175393   2.99   24.99\n",
       "2008           9.680203   0.99   39.99\n",
       "2009           9.819934   0.51   29.99\n",
       "2010           8.499922   0.54   54.99\n",
       "2011           9.663918   0.54   59.99\n",
       "2012          10.493663   0.99   59.99\n",
       "2013          11.667896   0.54   99.99\n",
       "2014           9.790296   0.49  124.99\n",
       "2015           8.545370   0.49   79.99\n",
       "2016           8.364495   0.49   99.99\n",
       "2017           8.010354   0.49  129.99\n",
       "2018           7.470698   0.49  149.99\n",
       "2019           8.428086   0.44  149.99\n",
       "2020           8.498338   0.49  134.10\n",
       "2021           8.816480   0.49  149.99\n",
       "2022           9.153158   0.49  164.34"
      ]
     },
     "execution_count": 18,
     "metadata": {},
     "output_type": "execute_result"
    }
   ],
   "source": [
    "# aggregating data by price and year to get mean, min, and max prices for years\n",
    "df_steam2.groupby('release_year').agg({'Price': ['mean', 'min','max']})"
   ]
  },
  {
   "cell_type": "code",
   "execution_count": 19,
   "id": "83bca8d2",
   "metadata": {},
   "outputs": [],
   "source": [
    "# creating new dataframe to avoid error I kept getting for transforms below\n",
    "df_steam3 = df_steam2"
   ]
  },
  {
   "cell_type": "code",
   "execution_count": 20,
   "id": "92654e0d",
   "metadata": {},
   "outputs": [],
   "source": [
    "# Adding max, mean, and min price columns to new dataframe.\n",
    "df_steam3['max_price'] = df_steam2.groupby(['release_year'])['Price'].transform(np.max)\n",
    "df_steam3['mean_price'] = df_steam2.groupby(['release_year'])['Price'].transform(np.mean)\n",
    "df_steam3['min_price'] = df_steam2.groupby(['release_year'])['Price'].transform(np.min)"
   ]
  },
  {
   "cell_type": "code",
   "execution_count": 21,
   "id": "673b1a8b",
   "metadata": {},
   "outputs": [
    {
     "data": {
      "text/html": [
       "<div>\n",
       "<style scoped>\n",
       "    .dataframe tbody tr th:only-of-type {\n",
       "        vertical-align: middle;\n",
       "    }\n",
       "\n",
       "    .dataframe tbody tr th {\n",
       "        vertical-align: top;\n",
       "    }\n",
       "\n",
       "    .dataframe thead th {\n",
       "        text-align: right;\n",
       "    }\n",
       "</style>\n",
       "<table border=\"1\" class=\"dataframe\">\n",
       "  <thead>\n",
       "    <tr style=\"text-align: right;\">\n",
       "      <th></th>\n",
       "      <th>Name</th>\n",
       "      <th>Release date</th>\n",
       "      <th>release_year</th>\n",
       "      <th>release_month</th>\n",
       "      <th>Estimated owners</th>\n",
       "      <th>Estimated owner level</th>\n",
       "      <th>Peak CCU</th>\n",
       "      <th>Required age</th>\n",
       "      <th>Price</th>\n",
       "      <th>DLC count</th>\n",
       "      <th>Windows</th>\n",
       "      <th>Mac</th>\n",
       "      <th>Linux</th>\n",
       "      <th>Operating Systems</th>\n",
       "      <th>Metacritic score</th>\n",
       "      <th>User score</th>\n",
       "      <th>Positive</th>\n",
       "      <th>Negative</th>\n",
       "      <th>Achievements</th>\n",
       "      <th>Recommendations</th>\n",
       "      <th>Avg playtime all</th>\n",
       "      <th>Avg playtime recent</th>\n",
       "      <th>Median playtime all</th>\n",
       "      <th>Median playtime recent</th>\n",
       "      <th>Developer</th>\n",
       "      <th>Publishers</th>\n",
       "      <th>Developer Country</th>\n",
       "      <th>Single-player</th>\n",
       "      <th>Multi-player</th>\n",
       "      <th>Co-op</th>\n",
       "      <th>PVP</th>\n",
       "      <th>Gameplay</th>\n",
       "      <th>VR</th>\n",
       "      <th>MMO</th>\n",
       "      <th>Indie</th>\n",
       "      <th>Early Access</th>\n",
       "      <th>Free to Play</th>\n",
       "      <th>Primary Genre</th>\n",
       "      <th>max_price</th>\n",
       "      <th>mean_price</th>\n",
       "      <th>min_price</th>\n",
       "    </tr>\n",
       "    <tr>\n",
       "      <th>AppID</th>\n",
       "      <th></th>\n",
       "      <th></th>\n",
       "      <th></th>\n",
       "      <th></th>\n",
       "      <th></th>\n",
       "      <th></th>\n",
       "      <th></th>\n",
       "      <th></th>\n",
       "      <th></th>\n",
       "      <th></th>\n",
       "      <th></th>\n",
       "      <th></th>\n",
       "      <th></th>\n",
       "      <th></th>\n",
       "      <th></th>\n",
       "      <th></th>\n",
       "      <th></th>\n",
       "      <th></th>\n",
       "      <th></th>\n",
       "      <th></th>\n",
       "      <th></th>\n",
       "      <th></th>\n",
       "      <th></th>\n",
       "      <th></th>\n",
       "      <th></th>\n",
       "      <th></th>\n",
       "      <th></th>\n",
       "      <th></th>\n",
       "      <th></th>\n",
       "      <th></th>\n",
       "      <th></th>\n",
       "      <th></th>\n",
       "      <th></th>\n",
       "      <th></th>\n",
       "      <th></th>\n",
       "      <th></th>\n",
       "      <th></th>\n",
       "      <th></th>\n",
       "      <th></th>\n",
       "      <th></th>\n",
       "      <th></th>\n",
       "    </tr>\n",
       "  </thead>\n",
       "  <tbody>\n",
       "    <tr>\n",
       "      <th>2070990</th>\n",
       "      <td>VEGAS Edit 20 Steam Edition</td>\n",
       "      <td>2022-11-01</td>\n",
       "      <td>2022</td>\n",
       "      <td>11</td>\n",
       "      <td>0 - 20000</td>\n",
       "      <td>1</td>\n",
       "      <td>2</td>\n",
       "      <td>0</td>\n",
       "      <td>164.34</td>\n",
       "      <td>0</td>\n",
       "      <td>True</td>\n",
       "      <td>False</td>\n",
       "      <td>False</td>\n",
       "      <td>Windows, Linux</td>\n",
       "      <td>0</td>\n",
       "      <td>0</td>\n",
       "      <td>1</td>\n",
       "      <td>0</td>\n",
       "      <td>0</td>\n",
       "      <td>0</td>\n",
       "      <td>0</td>\n",
       "      <td>0</td>\n",
       "      <td>0</td>\n",
       "      <td>0</td>\n",
       "      <td>MAGIX Software GmbH</td>\n",
       "      <td>MAGIX Software GmbH</td>\n",
       "      <td>United States</td>\n",
       "      <td>0</td>\n",
       "      <td>0</td>\n",
       "      <td>0</td>\n",
       "      <td>0</td>\n",
       "      <td>Unspecified</td>\n",
       "      <td>0</td>\n",
       "      <td>0</td>\n",
       "      <td>0</td>\n",
       "      <td>0</td>\n",
       "      <td>0</td>\n",
       "      <td>Design</td>\n",
       "      <td>164.34</td>\n",
       "      <td>9.153158</td>\n",
       "      <td>0.49</td>\n",
       "    </tr>\n",
       "    <tr>\n",
       "      <th>873180</th>\n",
       "      <td>é£žè·ƒè·³å°ï¼šå†’é™©ï¼ï¼ï¼ / 1000 Stages :...</td>\n",
       "      <td>2018-07-13</td>\n",
       "      <td>2018</td>\n",
       "      <td>7</td>\n",
       "      <td>0 - 20000</td>\n",
       "      <td>1</td>\n",
       "      <td>0</td>\n",
       "      <td>0</td>\n",
       "      <td>149.99</td>\n",
       "      <td>0</td>\n",
       "      <td>True</td>\n",
       "      <td>False</td>\n",
       "      <td>False</td>\n",
       "      <td>Windows, Linux</td>\n",
       "      <td>0</td>\n",
       "      <td>0</td>\n",
       "      <td>6</td>\n",
       "      <td>3</td>\n",
       "      <td>6</td>\n",
       "      <td>0</td>\n",
       "      <td>0</td>\n",
       "      <td>0</td>\n",
       "      <td>0</td>\n",
       "      <td>0</td>\n",
       "      <td>ðŸ“šç“œå±±ä¹¦åŠGuashan Bookshop</td>\n",
       "      <td>ðŸ“šç“œå±±ä¹¦åŠGuashan Bookshop</td>\n",
       "      <td>Russia</td>\n",
       "      <td>1</td>\n",
       "      <td>0</td>\n",
       "      <td>0</td>\n",
       "      <td>0</td>\n",
       "      <td>Single</td>\n",
       "      <td>0</td>\n",
       "      <td>0</td>\n",
       "      <td>1</td>\n",
       "      <td>0</td>\n",
       "      <td>0</td>\n",
       "      <td>Adventure</td>\n",
       "      <td>149.99</td>\n",
       "      <td>7.470698</td>\n",
       "      <td>0.49</td>\n",
       "    </tr>\n",
       "    <tr>\n",
       "      <th>1176140</th>\n",
       "      <td>MixPad</td>\n",
       "      <td>2019-12-18</td>\n",
       "      <td>2019</td>\n",
       "      <td>12</td>\n",
       "      <td>0 - 20000</td>\n",
       "      <td>1</td>\n",
       "      <td>1</td>\n",
       "      <td>0</td>\n",
       "      <td>149.99</td>\n",
       "      <td>0</td>\n",
       "      <td>True</td>\n",
       "      <td>False</td>\n",
       "      <td>False</td>\n",
       "      <td>Windows, Linux</td>\n",
       "      <td>0</td>\n",
       "      <td>0</td>\n",
       "      <td>1</td>\n",
       "      <td>0</td>\n",
       "      <td>0</td>\n",
       "      <td>0</td>\n",
       "      <td>0</td>\n",
       "      <td>0</td>\n",
       "      <td>0</td>\n",
       "      <td>0</td>\n",
       "      <td>NCH Software</td>\n",
       "      <td>NCH Software</td>\n",
       "      <td>Russia</td>\n",
       "      <td>0</td>\n",
       "      <td>0</td>\n",
       "      <td>0</td>\n",
       "      <td>0</td>\n",
       "      <td>Unspecified</td>\n",
       "      <td>0</td>\n",
       "      <td>0</td>\n",
       "      <td>0</td>\n",
       "      <td>0</td>\n",
       "      <td>0</td>\n",
       "      <td>Design</td>\n",
       "      <td>149.99</td>\n",
       "      <td>8.428086</td>\n",
       "      <td>0.44</td>\n",
       "    </tr>\n",
       "    <tr>\n",
       "      <th>1691000</th>\n",
       "      <td>marriedbook Interactive: Pre-Order ðŸ’</td>\n",
       "      <td>2022-01-12</td>\n",
       "      <td>2022</td>\n",
       "      <td>1</td>\n",
       "      <td>0 - 0</td>\n",
       "      <td>0</td>\n",
       "      <td>0</td>\n",
       "      <td>0</td>\n",
       "      <td>149.99</td>\n",
       "      <td>0</td>\n",
       "      <td>True</td>\n",
       "      <td>False</td>\n",
       "      <td>False</td>\n",
       "      <td>Windows, Linux</td>\n",
       "      <td>0</td>\n",
       "      <td>0</td>\n",
       "      <td>0</td>\n",
       "      <td>0</td>\n",
       "      <td>0</td>\n",
       "      <td>0</td>\n",
       "      <td>0</td>\n",
       "      <td>0</td>\n",
       "      <td>0</td>\n",
       "      <td>0</td>\n",
       "      <td>marriedbook ðŸ’</td>\n",
       "      <td>Innovative Solutions</td>\n",
       "      <td>Japan</td>\n",
       "      <td>1</td>\n",
       "      <td>1</td>\n",
       "      <td>1</td>\n",
       "      <td>1</td>\n",
       "      <td>Single, Multi, Co-op, PvP</td>\n",
       "      <td>0</td>\n",
       "      <td>0</td>\n",
       "      <td>0</td>\n",
       "      <td>1</td>\n",
       "      <td>0</td>\n",
       "      <td>Adventure</td>\n",
       "      <td>164.34</td>\n",
       "      <td>9.153158</td>\n",
       "      <td>0.49</td>\n",
       "    </tr>\n",
       "    <tr>\n",
       "      <th>1691040</th>\n",
       "      <td>SonicLoop - Realtime VJ content creator for st...</td>\n",
       "      <td>2021-08-27</td>\n",
       "      <td>2021</td>\n",
       "      <td>8</td>\n",
       "      <td>0 - 20000</td>\n",
       "      <td>1</td>\n",
       "      <td>0</td>\n",
       "      <td>0</td>\n",
       "      <td>149.99</td>\n",
       "      <td>0</td>\n",
       "      <td>True</td>\n",
       "      <td>False</td>\n",
       "      <td>False</td>\n",
       "      <td>Windows, Linux</td>\n",
       "      <td>0</td>\n",
       "      <td>0</td>\n",
       "      <td>0</td>\n",
       "      <td>0</td>\n",
       "      <td>0</td>\n",
       "      <td>0</td>\n",
       "      <td>0</td>\n",
       "      <td>0</td>\n",
       "      <td>0</td>\n",
       "      <td>0</td>\n",
       "      <td>SonicLoop Team</td>\n",
       "      <td>SonicLoop Team</td>\n",
       "      <td>Japan</td>\n",
       "      <td>0</td>\n",
       "      <td>0</td>\n",
       "      <td>0</td>\n",
       "      <td>0</td>\n",
       "      <td>Unspecified</td>\n",
       "      <td>0</td>\n",
       "      <td>0</td>\n",
       "      <td>0</td>\n",
       "      <td>0</td>\n",
       "      <td>0</td>\n",
       "      <td>Design</td>\n",
       "      <td>149.99</td>\n",
       "      <td>8.816480</td>\n",
       "      <td>0.49</td>\n",
       "    </tr>\n",
       "  </tbody>\n",
       "</table>\n",
       "</div>"
      ],
      "text/plain": [
       "                                                      Name Release date  \\\n",
       "AppID                                                                     \n",
       "2070990                        VEGAS Edit 20 Steam Edition   2022-11-01   \n",
       "873180   é£žè·ƒè·³å°ï¼šå†’é™©ï¼ï¼ï¼ / 1000 Stages :...   2018-07-13   \n",
       "1176140                                             MixPad   2019-12-18   \n",
       "1691000            marriedbook Interactive: Pre-Order ðŸ’   2022-01-12   \n",
       "1691040  SonicLoop - Realtime VJ content creator for st...   2021-08-27   \n",
       "\n",
       "         release_year  release_month Estimated owners  Estimated owner level  \\\n",
       "AppID                                                                          \n",
       "2070990          2022             11        0 - 20000                      1   \n",
       "873180           2018              7        0 - 20000                      1   \n",
       "1176140          2019             12        0 - 20000                      1   \n",
       "1691000          2022              1            0 - 0                      0   \n",
       "1691040          2021              8        0 - 20000                      1   \n",
       "\n",
       "         Peak CCU  Required age   Price  DLC count  Windows    Mac  Linux  \\\n",
       "AppID                                                                       \n",
       "2070990         2             0  164.34          0     True  False  False   \n",
       "873180          0             0  149.99          0     True  False  False   \n",
       "1176140         1             0  149.99          0     True  False  False   \n",
       "1691000         0             0  149.99          0     True  False  False   \n",
       "1691040         0             0  149.99          0     True  False  False   \n",
       "\n",
       "        Operating Systems  Metacritic score  User score  Positive  Negative  \\\n",
       "AppID                                                                         \n",
       "2070990    Windows, Linux                 0           0         1         0   \n",
       "873180     Windows, Linux                 0           0         6         3   \n",
       "1176140    Windows, Linux                 0           0         1         0   \n",
       "1691000    Windows, Linux                 0           0         0         0   \n",
       "1691040    Windows, Linux                 0           0         0         0   \n",
       "\n",
       "         Achievements  Recommendations  Avg playtime all  Avg playtime recent  \\\n",
       "AppID                                                                           \n",
       "2070990             0                0                 0                    0   \n",
       "873180              6                0                 0                    0   \n",
       "1176140             0                0                 0                    0   \n",
       "1691000             0                0                 0                    0   \n",
       "1691040             0                0                 0                    0   \n",
       "\n",
       "         Median playtime all  Median playtime recent  \\\n",
       "AppID                                                  \n",
       "2070990                    0                       0   \n",
       "873180                     0                       0   \n",
       "1176140                    0                       0   \n",
       "1691000                    0                       0   \n",
       "1691040                    0                       0   \n",
       "\n",
       "                                Developer                        Publishers  \\\n",
       "AppID                                                                         \n",
       "2070990               MAGIX Software GmbH               MAGIX Software GmbH   \n",
       "873180   ðŸ“šç“œå±±ä¹¦åŠGuashan Bookshop  ðŸ“šç“œå±±ä¹¦åŠGuashan Bookshop   \n",
       "1176140                      NCH Software                      NCH Software   \n",
       "1691000                  marriedbook ðŸ’              Innovative Solutions   \n",
       "1691040                    SonicLoop Team                    SonicLoop Team   \n",
       "\n",
       "        Developer Country  Single-player  Multi-player  Co-op  PVP  \\\n",
       "AppID                                                                \n",
       "2070990     United States              0             0      0    0   \n",
       "873180             Russia              1             0      0    0   \n",
       "1176140            Russia              0             0      0    0   \n",
       "1691000             Japan              1             1      1    1   \n",
       "1691040             Japan              0             0      0    0   \n",
       "\n",
       "                          Gameplay  VR  MMO  Indie  Early Access  \\\n",
       "AppID                                                              \n",
       "2070990                Unspecified   0    0      0             0   \n",
       "873180                      Single   0    0      1             0   \n",
       "1176140                Unspecified   0    0      0             0   \n",
       "1691000  Single, Multi, Co-op, PvP   0    0      0             1   \n",
       "1691040                Unspecified   0    0      0             0   \n",
       "\n",
       "         Free to Play Primary Genre  max_price  mean_price  min_price  \n",
       "AppID                                                                  \n",
       "2070990             0        Design     164.34    9.153158       0.49  \n",
       "873180              0     Adventure     149.99    7.470698       0.49  \n",
       "1176140             0        Design     149.99    8.428086       0.44  \n",
       "1691000             0     Adventure     164.34    9.153158       0.49  \n",
       "1691040             0        Design     149.99    8.816480       0.49  "
      ]
     },
     "execution_count": 21,
     "metadata": {},
     "output_type": "execute_result"
    }
   ],
   "source": [
    "# checking dataframe\n",
    "df_steam3.head()"
   ]
  },
  {
   "cell_type": "code",
   "execution_count": 22,
   "id": "29a35e21",
   "metadata": {},
   "outputs": [
    {
     "data": {
      "text/plain": [
       "Name                        0\n",
       "Release date                0\n",
       "release_year                0\n",
       "release_month               0\n",
       "Estimated owners            0\n",
       "Estimated owner level       0\n",
       "Peak CCU                    0\n",
       "Required age                0\n",
       "Price                       0\n",
       "DLC count                   0\n",
       "Windows                     0\n",
       "Mac                         0\n",
       "Linux                       0\n",
       "Operating Systems           0\n",
       "Metacritic score            0\n",
       "User score                  0\n",
       "Positive                    0\n",
       "Negative                    0\n",
       "Achievements                0\n",
       "Recommendations             0\n",
       "Avg playtime all            0\n",
       "Avg playtime recent         0\n",
       "Median playtime all         0\n",
       "Median playtime recent      0\n",
       "Developer                  82\n",
       "Publishers                238\n",
       "Developer Country         173\n",
       "Single-player               0\n",
       "Multi-player                0\n",
       "Co-op                       0\n",
       "PVP                         0\n",
       "Gameplay                    0\n",
       "VR                          0\n",
       "MMO                         0\n",
       "Indie                       0\n",
       "Early Access                0\n",
       "Free to Play                0\n",
       "Primary Genre               0\n",
       "max_price                   0\n",
       "mean_price                  0\n",
       "min_price                   0\n",
       "dtype: int64"
      ]
     },
     "execution_count": 22,
     "metadata": {},
     "output_type": "execute_result"
    }
   ],
   "source": [
    "# rechecking for null values\n",
    "df_steam3.isnull().sum()"
   ]
  },
  {
   "cell_type": "code",
   "execution_count": 23,
   "id": "a4a99895",
   "metadata": {},
   "outputs": [],
   "source": [
    "# Reshape the variables into NumPy arrays and put them into separate objects.\n",
    "X = df_steam3['release_year'].values.reshape(-1,1)\n",
    "y = df_steam3['mean_price'].values.reshape(-1,1)"
   ]
  },
  {
   "cell_type": "code",
   "execution_count": 24,
   "id": "55a641fd",
   "metadata": {},
   "outputs": [
    {
     "data": {
      "text/plain": [
       "array([[2022],\n",
       "       [2018],\n",
       "       [2019],\n",
       "       ...,\n",
       "       [2022],\n",
       "       [2022],\n",
       "       [2019]], dtype=int64)"
      ]
     },
     "execution_count": 24,
     "metadata": {},
     "output_type": "execute_result"
    }
   ],
   "source": [
    "X"
   ]
  },
  {
   "cell_type": "code",
   "execution_count": 25,
   "id": "b1fe7a64",
   "metadata": {},
   "outputs": [
    {
     "data": {
      "text/plain": [
       "array([[9.15315846],\n",
       "       [7.47069844],\n",
       "       [8.42808552],\n",
       "       ...,\n",
       "       [9.15315846],\n",
       "       [9.15315846],\n",
       "       [8.42808552]])"
      ]
     },
     "execution_count": 25,
     "metadata": {},
     "output_type": "execute_result"
    }
   ],
   "source": [
    "y"
   ]
  },
  {
   "cell_type": "code",
   "execution_count": 26,
   "id": "e347f7e1",
   "metadata": {},
   "outputs": [],
   "source": [
    "# Split data into a training set and a test set.\n",
    "\n",
    "X_train, X_test, y_train, y_test = train_test_split(X, y, test_size=0.3, random_state=0)"
   ]
  },
  {
   "cell_type": "markdown",
   "id": "88153125",
   "metadata": {},
   "source": [
    "# 04 Regression analysis"
   ]
  },
  {
   "cell_type": "code",
   "execution_count": 27,
   "id": "ef11d466",
   "metadata": {},
   "outputs": [],
   "source": [
    "# Create a regression object.\n",
    "\n",
    "regression = LinearRegression()"
   ]
  },
  {
   "cell_type": "code",
   "execution_count": 28,
   "id": "7389e621",
   "metadata": {},
   "outputs": [
    {
     "data": {
      "text/plain": [
       "LinearRegression()"
      ]
     },
     "execution_count": 28,
     "metadata": {},
     "output_type": "execute_result"
    }
   ],
   "source": [
    "# Fit the regression object onto the training set.\n",
    "\n",
    "regression.fit(X_train, y_train)"
   ]
  },
  {
   "cell_type": "code",
   "execution_count": 29,
   "id": "7d8c1869",
   "metadata": {},
   "outputs": [],
   "source": [
    "# Predict the values of y using X.\n",
    "\n",
    "y_predicted = regression.predict(X_test)"
   ]
  },
  {
   "cell_type": "code",
   "execution_count": 30,
   "id": "278ee746",
   "metadata": {},
   "outputs": [
    {
     "data": {
      "image/png": "[encoded data removed]",
      "text/plain": [
       "<Figure size 640x480 with 1 Axes>"
      ]
     },
     "metadata": {},
     "output_type": "display_data"
    }
   ],
   "source": [
    "# Create a plot that shows the regression line from the model on the test set.\n",
    "\n",
    "plot_test = plt\n",
    "plot_test.scatter(X_test, y_test, color='blue', s = 15)\n",
    "plot_test.plot(X_test, y_predicted, color='red', linewidth =3)\n",
    "plot_test.title('Game Release Year vs Mean Game Price (Test set)')\n",
    "plot_test.xlabel('Release Year')\n",
    "plot_test.ylabel('Mean Game Price')\n",
    "plot_test.show()"
   ]
  },
  {
   "cell_type": "code",
   "execution_count": 31,
   "id": "e94466aa",
   "metadata": {},
   "outputs": [],
   "source": [
    "# Create objects that contain the model summary statistics.\n",
    "\n",
    "rmse = mean_squared_error(y_test, y_predicted) \n",
    "r2 = r2_score(y_test, y_predicted) "
   ]
  },
  {
   "cell_type": "code",
   "execution_count": 32,
   "id": "3396c6fb",
   "metadata": {},
   "outputs": [
    {
     "name": "stdout",
     "output_type": "stream",
     "text": [
      "Slope: [[0.01851168]]\n",
      "Mean squared error:  0.390945024341056\n",
      "R2 score:  0.011261389736900163\n"
     ]
    }
   ],
   "source": [
    "# Print the model summary statistics. This is where you evaluate the performance of the model.\n",
    "\n",
    "print('Slope:' ,regression.coef_)\n",
    "print('Mean squared error: ', rmse)\n",
    "print('R2 score: ', r2)"
   ]
  },
  {
   "cell_type": "code",
   "execution_count": 33,
   "id": "f36a3d5f",
   "metadata": {},
   "outputs": [
    {
     "data": {
      "text/plain": [
       "array([[8.54863734],\n",
       "       [8.60417238],\n",
       "       [8.56714902],\n",
       "       ...,\n",
       "       [8.56714902],\n",
       "       [8.54863734],\n",
       "       [8.64119575]])"
      ]
     },
     "execution_count": 33,
     "metadata": {},
     "output_type": "execute_result"
    }
   ],
   "source": [
    "y_predicted"
   ]
  },
  {
   "cell_type": "code",
   "execution_count": 34,
   "id": "3a80aaa4",
   "metadata": {},
   "outputs": [
    {
     "data": {
      "text/html": [
       "<div>\n",
       "<style scoped>\n",
       "    .dataframe tbody tr th:only-of-type {\n",
       "        vertical-align: middle;\n",
       "    }\n",
       "\n",
       "    .dataframe tbody tr th {\n",
       "        vertical-align: top;\n",
       "    }\n",
       "\n",
       "    .dataframe thead th {\n",
       "        text-align: right;\n",
       "    }\n",
       "</style>\n",
       "<table border=\"1\" class=\"dataframe\">\n",
       "  <thead>\n",
       "    <tr style=\"text-align: right;\">\n",
       "      <th></th>\n",
       "      <th>Actual</th>\n",
       "      <th>Predicted</th>\n",
       "    </tr>\n",
       "  </thead>\n",
       "  <tbody>\n",
       "    <tr>\n",
       "      <th>0</th>\n",
       "      <td>8.010354</td>\n",
       "      <td>8.548637</td>\n",
       "    </tr>\n",
       "    <tr>\n",
       "      <th>1</th>\n",
       "      <td>8.498338</td>\n",
       "      <td>8.604172</td>\n",
       "    </tr>\n",
       "    <tr>\n",
       "      <th>2</th>\n",
       "      <td>7.470698</td>\n",
       "      <td>8.567149</td>\n",
       "    </tr>\n",
       "    <tr>\n",
       "      <th>3</th>\n",
       "      <td>8.816480</td>\n",
       "      <td>8.622684</td>\n",
       "    </tr>\n",
       "    <tr>\n",
       "      <th>4</th>\n",
       "      <td>8.428086</td>\n",
       "      <td>8.585661</td>\n",
       "    </tr>\n",
       "    <tr>\n",
       "      <th>5</th>\n",
       "      <td>8.498338</td>\n",
       "      <td>8.604172</td>\n",
       "    </tr>\n",
       "    <tr>\n",
       "      <th>6</th>\n",
       "      <td>8.498338</td>\n",
       "      <td>8.604172</td>\n",
       "    </tr>\n",
       "    <tr>\n",
       "      <th>7</th>\n",
       "      <td>8.428086</td>\n",
       "      <td>8.585661</td>\n",
       "    </tr>\n",
       "    <tr>\n",
       "      <th>8</th>\n",
       "      <td>9.153158</td>\n",
       "      <td>8.641196</td>\n",
       "    </tr>\n",
       "    <tr>\n",
       "      <th>9</th>\n",
       "      <td>9.153158</td>\n",
       "      <td>8.641196</td>\n",
       "    </tr>\n",
       "    <tr>\n",
       "      <th>10</th>\n",
       "      <td>7.470698</td>\n",
       "      <td>8.567149</td>\n",
       "    </tr>\n",
       "    <tr>\n",
       "      <th>11</th>\n",
       "      <td>8.498338</td>\n",
       "      <td>8.604172</td>\n",
       "    </tr>\n",
       "    <tr>\n",
       "      <th>12</th>\n",
       "      <td>9.153158</td>\n",
       "      <td>8.641196</td>\n",
       "    </tr>\n",
       "    <tr>\n",
       "      <th>13</th>\n",
       "      <td>9.153158</td>\n",
       "      <td>8.641196</td>\n",
       "    </tr>\n",
       "    <tr>\n",
       "      <th>14</th>\n",
       "      <td>8.545370</td>\n",
       "      <td>8.511614</td>\n",
       "    </tr>\n",
       "    <tr>\n",
       "      <th>15</th>\n",
       "      <td>8.498338</td>\n",
       "      <td>8.604172</td>\n",
       "    </tr>\n",
       "    <tr>\n",
       "      <th>16</th>\n",
       "      <td>7.470698</td>\n",
       "      <td>8.567149</td>\n",
       "    </tr>\n",
       "    <tr>\n",
       "      <th>17</th>\n",
       "      <td>9.153158</td>\n",
       "      <td>8.641196</td>\n",
       "    </tr>\n",
       "    <tr>\n",
       "      <th>18</th>\n",
       "      <td>8.816480</td>\n",
       "      <td>8.622684</td>\n",
       "    </tr>\n",
       "    <tr>\n",
       "      <th>19</th>\n",
       "      <td>9.153158</td>\n",
       "      <td>8.641196</td>\n",
       "    </tr>\n",
       "    <tr>\n",
       "      <th>20</th>\n",
       "      <td>8.498338</td>\n",
       "      <td>8.604172</td>\n",
       "    </tr>\n",
       "    <tr>\n",
       "      <th>21</th>\n",
       "      <td>8.010354</td>\n",
       "      <td>8.548637</td>\n",
       "    </tr>\n",
       "    <tr>\n",
       "      <th>22</th>\n",
       "      <td>8.428086</td>\n",
       "      <td>8.585661</td>\n",
       "    </tr>\n",
       "    <tr>\n",
       "      <th>23</th>\n",
       "      <td>8.498338</td>\n",
       "      <td>8.604172</td>\n",
       "    </tr>\n",
       "    <tr>\n",
       "      <th>24</th>\n",
       "      <td>9.790296</td>\n",
       "      <td>8.493102</td>\n",
       "    </tr>\n",
       "    <tr>\n",
       "      <th>25</th>\n",
       "      <td>8.816480</td>\n",
       "      <td>8.622684</td>\n",
       "    </tr>\n",
       "    <tr>\n",
       "      <th>26</th>\n",
       "      <td>8.010354</td>\n",
       "      <td>8.548637</td>\n",
       "    </tr>\n",
       "    <tr>\n",
       "      <th>27</th>\n",
       "      <td>7.470698</td>\n",
       "      <td>8.567149</td>\n",
       "    </tr>\n",
       "    <tr>\n",
       "      <th>28</th>\n",
       "      <td>8.364495</td>\n",
       "      <td>8.530126</td>\n",
       "    </tr>\n",
       "    <tr>\n",
       "      <th>29</th>\n",
       "      <td>8.816480</td>\n",
       "      <td>8.622684</td>\n",
       "    </tr>\n",
       "  </tbody>\n",
       "</table>\n",
       "</div>"
      ],
      "text/plain": [
       "      Actual  Predicted\n",
       "0   8.010354   8.548637\n",
       "1   8.498338   8.604172\n",
       "2   7.470698   8.567149\n",
       "3   8.816480   8.622684\n",
       "4   8.428086   8.585661\n",
       "5   8.498338   8.604172\n",
       "6   8.498338   8.604172\n",
       "7   8.428086   8.585661\n",
       "8   9.153158   8.641196\n",
       "9   9.153158   8.641196\n",
       "10  7.470698   8.567149\n",
       "11  8.498338   8.604172\n",
       "12  9.153158   8.641196\n",
       "13  9.153158   8.641196\n",
       "14  8.545370   8.511614\n",
       "15  8.498338   8.604172\n",
       "16  7.470698   8.567149\n",
       "17  9.153158   8.641196\n",
       "18  8.816480   8.622684\n",
       "19  9.153158   8.641196\n",
       "20  8.498338   8.604172\n",
       "21  8.010354   8.548637\n",
       "22  8.428086   8.585661\n",
       "23  8.498338   8.604172\n",
       "24  9.790296   8.493102\n",
       "25  8.816480   8.622684\n",
       "26  8.010354   8.548637\n",
       "27  7.470698   8.567149\n",
       "28  8.364495   8.530126\n",
       "29  8.816480   8.622684"
      ]
     },
     "execution_count": 34,
     "metadata": {},
     "output_type": "execute_result"
    }
   ],
   "source": [
    "# Create a dataframe comparing the actual and predicted values of y.\n",
    "\n",
    "data = pd.DataFrame({'Actual': y_test.flatten(), 'Predicted': y_predicted.flatten()})\n",
    "data.head(30)"
   ]
  },
  {
   "cell_type": "markdown",
   "id": "1d2afb31",
   "metadata": {},
   "source": [
    "##### Compare how the regression fits the training set"
   ]
  },
  {
   "cell_type": "code",
   "execution_count": 35,
   "id": "abfb675c",
   "metadata": {},
   "outputs": [],
   "source": [
    "# Predict.\n",
    "\n",
    "y_predicted_train = regression.predict(X_train)"
   ]
  },
  {
   "cell_type": "code",
   "execution_count": 36,
   "id": "7eb4a077",
   "metadata": {},
   "outputs": [
    {
     "name": "stdout",
     "output_type": "stream",
     "text": [
      "Slope: [[0.01851168]]\n",
      "Mean squared error:  0.390945024341056\n",
      "R2 score:  0.011261389736900163\n"
     ]
    }
   ],
   "source": [
    "print('Slope:' ,regression.coef_)\n",
    "print('Mean squared error: ', rmse)\n",
    "print('R2 score: ', r2)"
   ]
  },
  {
   "cell_type": "code",
   "execution_count": 37,
   "id": "6689b9dc",
   "metadata": {},
   "outputs": [
    {
     "data": {
      "image/png": "[encoded data removed]",
      "text/plain": [
       "<Figure size 640x480 with 1 Axes>"
      ]
     },
     "metadata": {},
     "output_type": "display_data"
    }
   ],
   "source": [
    "# Visualizing the training set results.\n",
    "\n",
    "plot_test = plt\n",
    "plot_test.scatter(X_train, y_train, color='black', s = 15)\n",
    "plot_test.plot(X_train, y_predicted_train, color='blue', linewidth =3)\n",
    "plot_test.title('Game Release Year vs Mean Game Price (Train set)')\n",
    "plot_test.xlabel('Release Year')\n",
    "plot_test.ylabel('Mean Game Price')\n",
    "plot_test.show()"
   ]
  },
  {
   "cell_type": "markdown",
   "id": "11668ec7",
   "metadata": {},
   "source": [
    "#### Repeating with maximum prices"
   ]
  },
  {
   "cell_type": "code",
   "execution_count": 38,
   "id": "50dc4bad",
   "metadata": {},
   "outputs": [],
   "source": [
    "# Reshape the variables into NumPy arrays and put them into separate objects.\n",
    "X_2 = df_steam3['release_year'].values.reshape(-1,1)\n",
    "y_2 = df_steam3['max_price'].values.reshape(-1,1)"
   ]
  },
  {
   "cell_type": "code",
   "execution_count": 39,
   "id": "c5dd5bee",
   "metadata": {},
   "outputs": [
    {
     "data": {
      "text/plain": [
       "array([[2022],\n",
       "       [2018],\n",
       "       [2019],\n",
       "       ...,\n",
       "       [2022],\n",
       "       [2022],\n",
       "       [2019]], dtype=int64)"
      ]
     },
     "execution_count": 39,
     "metadata": {},
     "output_type": "execute_result"
    }
   ],
   "source": [
    "X_2"
   ]
  },
  {
   "cell_type": "code",
   "execution_count": 40,
   "id": "f1c540e7",
   "metadata": {},
   "outputs": [
    {
     "data": {
      "text/plain": [
       "array([[164.34],\n",
       "       [149.99],\n",
       "       [149.99],\n",
       "       ...,\n",
       "       [164.34],\n",
       "       [164.34],\n",
       "       [149.99]])"
      ]
     },
     "execution_count": 40,
     "metadata": {},
     "output_type": "execute_result"
    }
   ],
   "source": [
    "y_2"
   ]
  },
  {
   "cell_type": "code",
   "execution_count": 41,
   "id": "a80b2ff5",
   "metadata": {},
   "outputs": [],
   "source": [
    "# Split data into a training set and a test set.\n",
    "X_train_2, X_test_2, y_train_2, y_test_2 = train_test_split(X_2, y_2, test_size=0.3, random_state=0)"
   ]
  },
  {
   "cell_type": "code",
   "execution_count": 42,
   "id": "73470606",
   "metadata": {},
   "outputs": [
    {
     "data": {
      "text/plain": [
       "LinearRegression()"
      ]
     },
     "execution_count": 42,
     "metadata": {},
     "output_type": "execute_result"
    }
   ],
   "source": [
    "# Run and fit the regression.\n",
    "\n",
    "regression = LinearRegression()  \n",
    "regression.fit(X_train_2, y_train_2)"
   ]
  },
  {
   "cell_type": "code",
   "execution_count": 43,
   "id": "38cf24eb",
   "metadata": {},
   "outputs": [],
   "source": [
    "# Predict the values of y_2 using X_2.\n",
    "\n",
    "y_predicted_2 = regression.predict(X_test_2)"
   ]
  },
  {
   "cell_type": "code",
   "execution_count": 44,
   "id": "86dfc821",
   "metadata": {},
   "outputs": [
    {
     "data": {
      "image/png": "[encoded data removed]",
      "text/plain": [
       "<Figure size 640x480 with 1 Axes>"
      ]
     },
     "metadata": {},
     "output_type": "display_data"
    }
   ],
   "source": [
    "# Visualizing the test set results.\n",
    "plot_test = plt\n",
    "plot_test.scatter(X_test_2, y_test_2, color='blue', s = 15)\n",
    "plot_test.plot(X_test_2, y_predicted_2, color='red', linewidth =3)\n",
    "plot_test.title('Game Release Year vs Maximum Game Price (Test set)')\n",
    "plot_test.xlabel('Release Year')\n",
    "plot_test.ylabel('Max Game Price')\n",
    "plot_test.show()"
   ]
  },
  {
   "cell_type": "code",
   "execution_count": 45,
   "id": "d0d44c05",
   "metadata": {},
   "outputs": [],
   "source": [
    "# Create objects that contain the model summary statistics.\n",
    "rmse = mean_squared_error(y_test_2, y_predicted_2)\n",
    "r2 = r2_score(y_test_2, y_predicted_2)"
   ]
  },
  {
   "cell_type": "code",
   "execution_count": 46,
   "id": "177f9eaa",
   "metadata": {},
   "outputs": [
    {
     "name": "stdout",
     "output_type": "stream",
     "text": [
      "Slope: [[8.1898278]]\n",
      "Mean squared error:  163.2864670814811\n",
      "R2 score:  0.7554904359696933\n"
     ]
    }
   ],
   "source": [
    "print('Slope:' ,regression.coef_)\n",
    "print('Mean squared error: ', rmse)\n",
    "print('R2 score: ', r2)"
   ]
  },
  {
   "cell_type": "code",
   "execution_count": 47,
   "id": "6484d8e6",
   "metadata": {},
   "outputs": [
    {
     "data": {
      "text/html": [
       "<div>\n",
       "<style scoped>\n",
       "    .dataframe tbody tr th:only-of-type {\n",
       "        vertical-align: middle;\n",
       "    }\n",
       "\n",
       "    .dataframe tbody tr th {\n",
       "        vertical-align: top;\n",
       "    }\n",
       "\n",
       "    .dataframe thead th {\n",
       "        text-align: right;\n",
       "    }\n",
       "</style>\n",
       "<table border=\"1\" class=\"dataframe\">\n",
       "  <thead>\n",
       "    <tr style=\"text-align: right;\">\n",
       "      <th></th>\n",
       "      <th>Actual</th>\n",
       "      <th>Predicted</th>\n",
       "    </tr>\n",
       "  </thead>\n",
       "  <tbody>\n",
       "    <tr>\n",
       "      <th>0</th>\n",
       "      <td>129.99</td>\n",
       "      <td>122.515174</td>\n",
       "    </tr>\n",
       "    <tr>\n",
       "      <th>1</th>\n",
       "      <td>134.10</td>\n",
       "      <td>147.084657</td>\n",
       "    </tr>\n",
       "    <tr>\n",
       "      <th>2</th>\n",
       "      <td>149.99</td>\n",
       "      <td>130.705002</td>\n",
       "    </tr>\n",
       "    <tr>\n",
       "      <th>3</th>\n",
       "      <td>149.99</td>\n",
       "      <td>155.274485</td>\n",
       "    </tr>\n",
       "    <tr>\n",
       "      <th>4</th>\n",
       "      <td>149.99</td>\n",
       "      <td>138.894829</td>\n",
       "    </tr>\n",
       "    <tr>\n",
       "      <th>5</th>\n",
       "      <td>134.10</td>\n",
       "      <td>147.084657</td>\n",
       "    </tr>\n",
       "    <tr>\n",
       "      <th>6</th>\n",
       "      <td>134.10</td>\n",
       "      <td>147.084657</td>\n",
       "    </tr>\n",
       "    <tr>\n",
       "      <th>7</th>\n",
       "      <td>149.99</td>\n",
       "      <td>138.894829</td>\n",
       "    </tr>\n",
       "    <tr>\n",
       "      <th>8</th>\n",
       "      <td>164.34</td>\n",
       "      <td>163.464313</td>\n",
       "    </tr>\n",
       "    <tr>\n",
       "      <th>9</th>\n",
       "      <td>164.34</td>\n",
       "      <td>163.464313</td>\n",
       "    </tr>\n",
       "    <tr>\n",
       "      <th>10</th>\n",
       "      <td>149.99</td>\n",
       "      <td>130.705002</td>\n",
       "    </tr>\n",
       "    <tr>\n",
       "      <th>11</th>\n",
       "      <td>134.10</td>\n",
       "      <td>147.084657</td>\n",
       "    </tr>\n",
       "    <tr>\n",
       "      <th>12</th>\n",
       "      <td>164.34</td>\n",
       "      <td>163.464313</td>\n",
       "    </tr>\n",
       "    <tr>\n",
       "      <th>13</th>\n",
       "      <td>164.34</td>\n",
       "      <td>163.464313</td>\n",
       "    </tr>\n",
       "    <tr>\n",
       "      <th>14</th>\n",
       "      <td>79.99</td>\n",
       "      <td>106.135518</td>\n",
       "    </tr>\n",
       "    <tr>\n",
       "      <th>15</th>\n",
       "      <td>134.10</td>\n",
       "      <td>147.084657</td>\n",
       "    </tr>\n",
       "    <tr>\n",
       "      <th>16</th>\n",
       "      <td>149.99</td>\n",
       "      <td>130.705002</td>\n",
       "    </tr>\n",
       "    <tr>\n",
       "      <th>17</th>\n",
       "      <td>164.34</td>\n",
       "      <td>163.464313</td>\n",
       "    </tr>\n",
       "    <tr>\n",
       "      <th>18</th>\n",
       "      <td>149.99</td>\n",
       "      <td>155.274485</td>\n",
       "    </tr>\n",
       "    <tr>\n",
       "      <th>19</th>\n",
       "      <td>164.34</td>\n",
       "      <td>163.464313</td>\n",
       "    </tr>\n",
       "    <tr>\n",
       "      <th>20</th>\n",
       "      <td>134.10</td>\n",
       "      <td>147.084657</td>\n",
       "    </tr>\n",
       "    <tr>\n",
       "      <th>21</th>\n",
       "      <td>129.99</td>\n",
       "      <td>122.515174</td>\n",
       "    </tr>\n",
       "    <tr>\n",
       "      <th>22</th>\n",
       "      <td>149.99</td>\n",
       "      <td>138.894829</td>\n",
       "    </tr>\n",
       "    <tr>\n",
       "      <th>23</th>\n",
       "      <td>134.10</td>\n",
       "      <td>147.084657</td>\n",
       "    </tr>\n",
       "    <tr>\n",
       "      <th>24</th>\n",
       "      <td>124.99</td>\n",
       "      <td>97.945690</td>\n",
       "    </tr>\n",
       "    <tr>\n",
       "      <th>25</th>\n",
       "      <td>149.99</td>\n",
       "      <td>155.274485</td>\n",
       "    </tr>\n",
       "    <tr>\n",
       "      <th>26</th>\n",
       "      <td>129.99</td>\n",
       "      <td>122.515174</td>\n",
       "    </tr>\n",
       "    <tr>\n",
       "      <th>27</th>\n",
       "      <td>149.99</td>\n",
       "      <td>130.705002</td>\n",
       "    </tr>\n",
       "    <tr>\n",
       "      <th>28</th>\n",
       "      <td>99.99</td>\n",
       "      <td>114.325346</td>\n",
       "    </tr>\n",
       "    <tr>\n",
       "      <th>29</th>\n",
       "      <td>149.99</td>\n",
       "      <td>155.274485</td>\n",
       "    </tr>\n",
       "  </tbody>\n",
       "</table>\n",
       "</div>"
      ],
      "text/plain": [
       "    Actual   Predicted\n",
       "0   129.99  122.515174\n",
       "1   134.10  147.084657\n",
       "2   149.99  130.705002\n",
       "3   149.99  155.274485\n",
       "4   149.99  138.894829\n",
       "5   134.10  147.084657\n",
       "6   134.10  147.084657\n",
       "7   149.99  138.894829\n",
       "8   164.34  163.464313\n",
       "9   164.34  163.464313\n",
       "10  149.99  130.705002\n",
       "11  134.10  147.084657\n",
       "12  164.34  163.464313\n",
       "13  164.34  163.464313\n",
       "14   79.99  106.135518\n",
       "15  134.10  147.084657\n",
       "16  149.99  130.705002\n",
       "17  164.34  163.464313\n",
       "18  149.99  155.274485\n",
       "19  164.34  163.464313\n",
       "20  134.10  147.084657\n",
       "21  129.99  122.515174\n",
       "22  149.99  138.894829\n",
       "23  134.10  147.084657\n",
       "24  124.99   97.945690\n",
       "25  149.99  155.274485\n",
       "26  129.99  122.515174\n",
       "27  149.99  130.705002\n",
       "28   99.99  114.325346\n",
       "29  149.99  155.274485"
      ]
     },
     "execution_count": 47,
     "metadata": {},
     "output_type": "execute_result"
    }
   ],
   "source": [
    "# Create a dataframe comparing the actual and predicted values of y.\n",
    "\n",
    "data = pd.DataFrame({'Actual': y_test_2.flatten(), 'Predicted': y_predicted_2.flatten()})\n",
    "data.head(30)"
   ]
  },
  {
   "cell_type": "code",
   "execution_count": 48,
   "id": "05cfc06b",
   "metadata": {},
   "outputs": [],
   "source": [
    "# Predict.\n",
    "\n",
    "y_predicted_train_2 = regression.predict(X_train_2)"
   ]
  },
  {
   "cell_type": "code",
   "execution_count": 49,
   "id": "b2cdc0a2",
   "metadata": {},
   "outputs": [
    {
     "name": "stdout",
     "output_type": "stream",
     "text": [
      "Slope: [[8.1898278]]\n",
      "Mean squared error:  163.2864670814811\n",
      "R2 score:  0.7554904359696933\n"
     ]
    }
   ],
   "source": [
    "print('Slope:' ,regression.coef_)\n",
    "print('Mean squared error: ', rmse)\n",
    "print('R2 score: ', r2)"
   ]
  },
  {
   "cell_type": "code",
   "execution_count": 50,
   "id": "fa6c732a",
   "metadata": {},
   "outputs": [
    {
     "data": {
      "image/png": "[encoded data removed]",
      "text/plain": [
       "<Figure size 640x480 with 1 Axes>"
      ]
     },
     "metadata": {},
     "output_type": "display_data"
    }
   ],
   "source": [
    "# Visualizing the training set results.\n",
    "\n",
    "plot_test = plt\n",
    "plot_test.scatter(X_train_2, y_train_2, color='black', s = 15)\n",
    "plot_test.plot(X_train_2, y_predicted_train_2, color='blue', linewidth =3)\n",
    "plot_test.title('Game Release Year vs Max Game Price (Train set)')\n",
    "plot_test.xlabel('Release Year')\n",
    "plot_test.ylabel('Max Game Price')\n",
    "plot_test.show()"
   ]
  },
  {
   "cell_type": "markdown",
   "id": "e07c80a8",
   "metadata": {},
   "source": [
    "#### Repeating for minimum price"
   ]
  },
  {
   "cell_type": "code",
   "execution_count": 51,
   "id": "652e7fd4",
   "metadata": {},
   "outputs": [],
   "source": [
    "# Reshape the variables into NumPy arrays and put them into separate objects.\n",
    "X_3 = df_steam3['release_year'].values.reshape(-1,1)\n",
    "y_3 = df_steam3['min_price'].values.reshape(-1,1)"
   ]
  },
  {
   "cell_type": "code",
   "execution_count": 52,
   "id": "5b15515a",
   "metadata": {},
   "outputs": [
    {
     "data": {
      "text/plain": [
       "array([[2022],\n",
       "       [2018],\n",
       "       [2019],\n",
       "       ...,\n",
       "       [2022],\n",
       "       [2022],\n",
       "       [2019]], dtype=int64)"
      ]
     },
     "execution_count": 52,
     "metadata": {},
     "output_type": "execute_result"
    }
   ],
   "source": [
    "X_3"
   ]
  },
  {
   "cell_type": "code",
   "execution_count": 53,
   "id": "04c39247",
   "metadata": {},
   "outputs": [
    {
     "data": {
      "text/plain": [
       "array([[0.49],\n",
       "       [0.49],\n",
       "       [0.44],\n",
       "       ...,\n",
       "       [0.49],\n",
       "       [0.49],\n",
       "       [0.44]])"
      ]
     },
     "execution_count": 53,
     "metadata": {},
     "output_type": "execute_result"
    }
   ],
   "source": [
    "y_3"
   ]
  },
  {
   "cell_type": "code",
   "execution_count": 54,
   "id": "ebe30ce2",
   "metadata": {},
   "outputs": [],
   "source": [
    "# Split data into a training set and a test set.\n",
    "X_train_3, X_test_3, y_train_3, y_test_3 = train_test_split(X_3, y_3, test_size=0.3, random_state=0)"
   ]
  },
  {
   "cell_type": "code",
   "execution_count": 55,
   "id": "3eb6fc31",
   "metadata": {},
   "outputs": [
    {
     "data": {
      "text/plain": [
       "LinearRegression()"
      ]
     },
     "execution_count": 55,
     "metadata": {},
     "output_type": "execute_result"
    }
   ],
   "source": [
    "# Run and fit the regression.\n",
    "\n",
    "regression = LinearRegression()  \n",
    "regression.fit(X_train_3, y_train_3)"
   ]
  },
  {
   "cell_type": "code",
   "execution_count": 56,
   "id": "b2181070",
   "metadata": {},
   "outputs": [],
   "source": [
    "# Predict the values of y_3 using X_3.\n",
    "\n",
    "y_predicted_3 = regression.predict(X_test_3)"
   ]
  },
  {
   "cell_type": "code",
   "execution_count": 57,
   "id": "b50a3425",
   "metadata": {},
   "outputs": [
    {
     "data": {
      "image/png": "[encoded data removed]",
      "text/plain": [
       "<Figure size 640x480 with 1 Axes>"
      ]
     },
     "metadata": {},
     "output_type": "display_data"
    }
   ],
   "source": [
    "# Visualizing the test set results.\n",
    "plot_test = plt\n",
    "plot_test.scatter(X_test_3, y_test_3, color='blue', s = 15)\n",
    "plot_test.plot(X_test_3, y_predicted_3, color='red', linewidth =3)\n",
    "plot_test.title('Game Release Year vs Minimum Game Price (Test set)')\n",
    "plot_test.xlabel('Release Year')\n",
    "plot_test.ylabel('Min Game Price')\n",
    "plot_test.show()"
   ]
  },
  {
   "cell_type": "code",
   "execution_count": 58,
   "id": "c75524be",
   "metadata": {},
   "outputs": [],
   "source": [
    "# Create objects that contain the model summary statistics.\n",
    "rmse = mean_squared_error(y_test_3, y_predicted_3)\n",
    "r2 = r2_score(y_test_3, y_predicted_3)"
   ]
  },
  {
   "cell_type": "code",
   "execution_count": 59,
   "id": "1166ec12",
   "metadata": {},
   "outputs": [
    {
     "name": "stdout",
     "output_type": "stream",
     "text": [
      "Slope: [[-0.0176366]]\n",
      "Mean squared error:  0.025886790962579096\n",
      "R2 score:  0.08493845784621956\n"
     ]
    }
   ],
   "source": [
    "print('Slope:' ,regression.coef_)\n",
    "print('Mean squared error: ', rmse)\n",
    "print('R2 score: ', r2)"
   ]
  },
  {
   "cell_type": "code",
   "execution_count": 60,
   "id": "1db535fb",
   "metadata": {},
   "outputs": [
    {
     "data": {
      "text/html": [
       "<div>\n",
       "<style scoped>\n",
       "    .dataframe tbody tr th:only-of-type {\n",
       "        vertical-align: middle;\n",
       "    }\n",
       "\n",
       "    .dataframe tbody tr th {\n",
       "        vertical-align: top;\n",
       "    }\n",
       "\n",
       "    .dataframe thead th {\n",
       "        text-align: right;\n",
       "    }\n",
       "</style>\n",
       "<table border=\"1\" class=\"dataframe\">\n",
       "  <thead>\n",
       "    <tr style=\"text-align: right;\">\n",
       "      <th></th>\n",
       "      <th>Actual</th>\n",
       "      <th>Predicted</th>\n",
       "    </tr>\n",
       "  </thead>\n",
       "  <tbody>\n",
       "    <tr>\n",
       "      <th>0</th>\n",
       "      <td>0.49</td>\n",
       "      <td>0.530828</td>\n",
       "    </tr>\n",
       "    <tr>\n",
       "      <th>1</th>\n",
       "      <td>0.49</td>\n",
       "      <td>0.477918</td>\n",
       "    </tr>\n",
       "    <tr>\n",
       "      <th>2</th>\n",
       "      <td>0.49</td>\n",
       "      <td>0.513191</td>\n",
       "    </tr>\n",
       "    <tr>\n",
       "      <th>3</th>\n",
       "      <td>0.49</td>\n",
       "      <td>0.460281</td>\n",
       "    </tr>\n",
       "    <tr>\n",
       "      <th>4</th>\n",
       "      <td>0.44</td>\n",
       "      <td>0.495555</td>\n",
       "    </tr>\n",
       "    <tr>\n",
       "      <th>5</th>\n",
       "      <td>0.49</td>\n",
       "      <td>0.477918</td>\n",
       "    </tr>\n",
       "    <tr>\n",
       "      <th>6</th>\n",
       "      <td>0.49</td>\n",
       "      <td>0.477918</td>\n",
       "    </tr>\n",
       "    <tr>\n",
       "      <th>7</th>\n",
       "      <td>0.44</td>\n",
       "      <td>0.495555</td>\n",
       "    </tr>\n",
       "    <tr>\n",
       "      <th>8</th>\n",
       "      <td>0.49</td>\n",
       "      <td>0.442645</td>\n",
       "    </tr>\n",
       "    <tr>\n",
       "      <th>9</th>\n",
       "      <td>0.49</td>\n",
       "      <td>0.442645</td>\n",
       "    </tr>\n",
       "    <tr>\n",
       "      <th>10</th>\n",
       "      <td>0.49</td>\n",
       "      <td>0.513191</td>\n",
       "    </tr>\n",
       "    <tr>\n",
       "      <th>11</th>\n",
       "      <td>0.49</td>\n",
       "      <td>0.477918</td>\n",
       "    </tr>\n",
       "    <tr>\n",
       "      <th>12</th>\n",
       "      <td>0.49</td>\n",
       "      <td>0.442645</td>\n",
       "    </tr>\n",
       "    <tr>\n",
       "      <th>13</th>\n",
       "      <td>0.49</td>\n",
       "      <td>0.442645</td>\n",
       "    </tr>\n",
       "    <tr>\n",
       "      <th>14</th>\n",
       "      <td>0.49</td>\n",
       "      <td>0.566101</td>\n",
       "    </tr>\n",
       "    <tr>\n",
       "      <th>15</th>\n",
       "      <td>0.49</td>\n",
       "      <td>0.477918</td>\n",
       "    </tr>\n",
       "    <tr>\n",
       "      <th>16</th>\n",
       "      <td>0.49</td>\n",
       "      <td>0.513191</td>\n",
       "    </tr>\n",
       "    <tr>\n",
       "      <th>17</th>\n",
       "      <td>0.49</td>\n",
       "      <td>0.442645</td>\n",
       "    </tr>\n",
       "    <tr>\n",
       "      <th>18</th>\n",
       "      <td>0.49</td>\n",
       "      <td>0.460281</td>\n",
       "    </tr>\n",
       "    <tr>\n",
       "      <th>19</th>\n",
       "      <td>0.49</td>\n",
       "      <td>0.442645</td>\n",
       "    </tr>\n",
       "    <tr>\n",
       "      <th>20</th>\n",
       "      <td>0.49</td>\n",
       "      <td>0.477918</td>\n",
       "    </tr>\n",
       "    <tr>\n",
       "      <th>21</th>\n",
       "      <td>0.49</td>\n",
       "      <td>0.530828</td>\n",
       "    </tr>\n",
       "    <tr>\n",
       "      <th>22</th>\n",
       "      <td>0.44</td>\n",
       "      <td>0.495555</td>\n",
       "    </tr>\n",
       "    <tr>\n",
       "      <th>23</th>\n",
       "      <td>0.49</td>\n",
       "      <td>0.477918</td>\n",
       "    </tr>\n",
       "    <tr>\n",
       "      <th>24</th>\n",
       "      <td>0.49</td>\n",
       "      <td>0.583738</td>\n",
       "    </tr>\n",
       "    <tr>\n",
       "      <th>25</th>\n",
       "      <td>0.49</td>\n",
       "      <td>0.460281</td>\n",
       "    </tr>\n",
       "    <tr>\n",
       "      <th>26</th>\n",
       "      <td>0.49</td>\n",
       "      <td>0.530828</td>\n",
       "    </tr>\n",
       "    <tr>\n",
       "      <th>27</th>\n",
       "      <td>0.49</td>\n",
       "      <td>0.513191</td>\n",
       "    </tr>\n",
       "    <tr>\n",
       "      <th>28</th>\n",
       "      <td>0.49</td>\n",
       "      <td>0.548464</td>\n",
       "    </tr>\n",
       "    <tr>\n",
       "      <th>29</th>\n",
       "      <td>0.49</td>\n",
       "      <td>0.460281</td>\n",
       "    </tr>\n",
       "  </tbody>\n",
       "</table>\n",
       "</div>"
      ],
      "text/plain": [
       "    Actual  Predicted\n",
       "0     0.49   0.530828\n",
       "1     0.49   0.477918\n",
       "2     0.49   0.513191\n",
       "3     0.49   0.460281\n",
       "4     0.44   0.495555\n",
       "5     0.49   0.477918\n",
       "6     0.49   0.477918\n",
       "7     0.44   0.495555\n",
       "8     0.49   0.442645\n",
       "9     0.49   0.442645\n",
       "10    0.49   0.513191\n",
       "11    0.49   0.477918\n",
       "12    0.49   0.442645\n",
       "13    0.49   0.442645\n",
       "14    0.49   0.566101\n",
       "15    0.49   0.477918\n",
       "16    0.49   0.513191\n",
       "17    0.49   0.442645\n",
       "18    0.49   0.460281\n",
       "19    0.49   0.442645\n",
       "20    0.49   0.477918\n",
       "21    0.49   0.530828\n",
       "22    0.44   0.495555\n",
       "23    0.49   0.477918\n",
       "24    0.49   0.583738\n",
       "25    0.49   0.460281\n",
       "26    0.49   0.530828\n",
       "27    0.49   0.513191\n",
       "28    0.49   0.548464\n",
       "29    0.49   0.460281"
      ]
     },
     "execution_count": 60,
     "metadata": {},
     "output_type": "execute_result"
    }
   ],
   "source": [
    "# Create a dataframe comparing the actual and predicted values of y.\n",
    "\n",
    "data = pd.DataFrame({'Actual': y_test_3.flatten(), 'Predicted': y_predicted_3.flatten()})\n",
    "data.head(30)"
   ]
  },
  {
   "cell_type": "code",
   "execution_count": 61,
   "id": "c3a4852e",
   "metadata": {},
   "outputs": [],
   "source": [
    "# Predict.\n",
    "\n",
    "y_predicted_train_3 = regression.predict(X_train_3)"
   ]
  },
  {
   "cell_type": "code",
   "execution_count": 62,
   "id": "f34bb4f0",
   "metadata": {},
   "outputs": [
    {
     "name": "stdout",
     "output_type": "stream",
     "text": [
      "Slope: [[-0.0176366]]\n",
      "Mean squared error:  0.025886790962579096\n",
      "R2 score:  0.08493845784621956\n"
     ]
    }
   ],
   "source": [
    "print('Slope:' ,regression.coef_)\n",
    "print('Mean squared error: ', rmse)\n",
    "print('R2 score: ', r2)"
   ]
  },
  {
   "cell_type": "code",
   "execution_count": 63,
   "id": "c2eead9c",
   "metadata": {},
   "outputs": [
    {
     "data": {
      "image/png": "[encoded data removed]",
      "text/plain": [
       "<Figure size 640x480 with 1 Axes>"
      ]
     },
     "metadata": {},
     "output_type": "display_data"
    }
   ],
   "source": [
    "# Visualizing the training set results.\n",
    "\n",
    "plot_test = plt\n",
    "plot_test.scatter(X_train_3, y_train_3, color='black', s = 15)\n",
    "plot_test.plot(X_train_3, y_predicted_train_3, color='blue', linewidth =3)\n",
    "plot_test.title('Game Release Year vs Min Game Price (Train set)')\n",
    "plot_test.xlabel('Release Year')\n",
    "plot_test.ylabel('Min Game Price')\n",
    "plot_test.show()"
   ]
  },
  {
   "cell_type": "markdown",
   "id": "bbfedf91",
   "metadata": {},
   "source": [
    "## 05 Reflection"
   ]
  },
  {
   "cell_type": "markdown",
   "id": "9fbfaa9d",
   "metadata": {},
   "source": [
    "#### The regression analysis was able to predict maximum game prices through time fairly well. However, this did not work well at all with average and minimum game prices. Minimum game price predictions seem to be thrown off due to values prior to 2008; afterwards the prediction appears pretty accurate. There also seems to be some years where the average game price is higher than predicted and other years where average game price was lower than predicted. It does appear that in general, game prices have dropped, since 2005 but after 2008 or so, the price reductions became unpredictable. The prediction for maxiumum game prices is by no means perfect either. While there is a general trend upwards, there are many prices both below and above the prediction line."
   ]
  },
  {
   "cell_type": "code",
   "execution_count": null,
   "id": "b4da35df",
   "metadata": {},
   "outputs": [],
   "source": []
  }
 ],
 "metadata": {
  "kernelspec": {
   "display_name": "Python 3 (ipykernel)",
   "language": "python",
   "name": "python3"
  },
  "language_info": {
   "codemirror_mode": {
    "name": "ipython",
    "version": 3
   },
   "file_extension": ".py",
   "mimetype": "text/x-python",
   "name": "python",
   "nbconvert_exporter": "python",
   "pygments_lexer": "ipython3",
   "version": "3.9.15"
  }
 },
 "nbformat": 4,
 "nbformat_minor": 5
}
